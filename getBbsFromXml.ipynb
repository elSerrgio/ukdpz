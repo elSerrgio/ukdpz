{
 "cells": [
  {
   "cell_type": "code",
   "execution_count": 26,
   "metadata": {},
   "outputs": [],
   "source": [
    "#!/usr/bin/python\n",
    "\n",
    "import glob\n",
    "import os\n",
    "import xml.etree.ElementTree as ET\n",
    "from imgaug.augmentables.bbs import BoundingBox, BoundingBoxesOnImage\n",
    "\n",
    "import getBbsFromXml as xml2bbs\n",
    "\n",
    "# for now only for single Boxes!\n",
    "\n",
    "path = (\"C:/Users/go697/Documents/Augmentation/images/labelled/test1/\")\n",
    "\n",
    "bbs1 = xml2bbs.getBbsFromXml(path)\n",
    "\n",
    "\n",
    "\n",
    "def getBbsFromXml(path):\n",
    "\n",
    "    bbs = []\n",
    "\n",
    "    for filename in glob.glob(path + \"*.xml\"):\n",
    "\n",
    "        tree = ET.parse(filename)\n",
    "        root = tree.getroot()\n",
    "\n",
    "        xmin = int(root[6][4][0].text)\n",
    "        ymin = int(root[6][4][1].text)\n",
    "        xmax = int(root[6][4][2].text)\n",
    "        ymax = int(root[6][4][3].text)\n",
    "\n",
    "        width  = int(root[4][0].text)\n",
    "        height = int(root[4][1].text)\n",
    "        depth  = int(root[4][2].text)\n",
    "\n",
    "        shapeTuple = (height, width, depth)\n",
    "\n",
    "        bbs1 = BoundingBoxesOnImage([\n",
    "            BoundingBox(x1=xmin, y1=ymin, x2=xmax, y2=ymax)\n",
    "        ], shape=shapeTuple)\n",
    "\n",
    "        #bbs.append(bbs1)\n",
    "\n",
    "    return bbs\n",
    "\n",
    "bbs = getBbsFromXml(path)"
   ]
  },
  {
   "cell_type": "code",
   "execution_count": 27,
   "metadata": {},
   "outputs": [
    {
     "data": {
      "text/plain": [
       "[]"
      ]
     },
     "execution_count": 27,
     "metadata": {},
     "output_type": "execute_result"
    }
   ],
   "source": [
    "bbs"
   ]
  },
  {
   "cell_type": "code",
   "execution_count": 1,
   "metadata": {},
   "outputs": [
    {
     "ename": "NameError",
     "evalue": "name 'images_aug' is not defined",
     "output_type": "error",
     "traceback": [
      "\u001b[1;31m---------------------------------------------------------------------------\u001b[0m",
      "\u001b[1;31mNameError\u001b[0m                                 Traceback (most recent call last)",
      "\u001b[1;32m<ipython-input-1-f77c341a9724>\u001b[0m in \u001b[0;36m<module>\u001b[1;34m\u001b[0m\n\u001b[1;32m----> 1\u001b[1;33m \u001b[0mimages_aug\u001b[0m\u001b[1;33m[\u001b[0m\u001b[1;36m5\u001b[0m\u001b[1;33m]\u001b[0m\u001b[1;33m.\u001b[0m\u001b[0mshape\u001b[0m\u001b[1;33m\u001b[0m\u001b[1;33m\u001b[0m\u001b[0m\n\u001b[0m",
      "\u001b[1;31mNameError\u001b[0m: name 'images_aug' is not defined"
     ]
    }
   ],
   "source": []
  },
  {
   "cell_type": "code",
   "execution_count": null,
   "metadata": {},
   "outputs": [],
   "source": []
  }
 ],
 "metadata": {
  "kernelspec": {
   "display_name": "Python 3",
   "language": "python",
   "name": "python3"
  },
  "language_info": {
   "codemirror_mode": {
    "name": "ipython",
    "version": 3
   },
   "file_extension": ".py",
   "mimetype": "text/x-python",
   "name": "python",
   "nbconvert_exporter": "python",
   "pygments_lexer": "ipython3",
   "version": "3.7.6"
  }
 },
 "nbformat": 4,
 "nbformat_minor": 4
}
