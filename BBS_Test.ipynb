{
 "cells": [
  {
   "cell_type": "code",
   "execution_count": null,
   "metadata": {},
   "outputs": [],
   "source": [
    "import glob\n",
    "import os\n",
    "import xml.etree.ElementTree as ET\n",
    "from imgaug.augmentables.bbs import BoundingBox, BoundingBoxesOnImage\n",
    "\n",
    "# for now nly for single Boxes!\n",
    "\n",
    "def get\n",
    "\n",
    "bbs = []\n",
    "\n",
    "for filename in glob.glob(pathToXml + \"*.xml\"):\n",
    "    \n",
    "    #image = imageio.imread(filename)\n",
    "    #instr.append(image)\n",
    "\n",
    "    #tree = ET.parse('../images/labelled/test1/2020-02-14_173830.xml')\n",
    "    tree = ET.parse(filename)\n",
    "    root = tree.getroot()\n",
    "\n",
    "    xmin = int(root[6][4][0].text)\n",
    "    ymin = int(root[6][4][1].text)\n",
    "    xmax = int(root[6][4][2].text)\n",
    "    ymax = int(root[6][4][3].text)\n",
    "\n",
    "    width  = int(root[4][0].text)\n",
    "    height = int(root[4][1].text)\n",
    "    depth  = int(root[4][2].text)\n",
    "\n",
    "    shapeTuple = (height, width, depth)\n",
    "\n",
    "    bbs1 = BoundingBoxesOnImage([\n",
    "        BoundingBox(x1=xmin, y1=ymin, x2=xmax, y2=ymax)\n",
    "        #BoundingBox(x1=150, y1=80, x2=200, y2=130)\n",
    "    ], shape=shapeTuple)\n",
    "\n",
    "    \n",
    "return bbs.append(bbs1)"
   ]
  },
  {
   "cell_type": "code",
   "execution_count": null,
   "metadata": {},
   "outputs": [],
   "source": []
  },
  {
   "cell_type": "code",
   "execution_count": null,
   "metadata": {},
   "outputs": [],
   "source": []
  }
 ],
 "metadata": {
  "kernelspec": {
   "display_name": "Python 3",
   "language": "python",
   "name": "python3"
  },
  "language_info": {
   "codemirror_mode": {
    "name": "ipython",
    "version": 3
   },
   "file_extension": ".py",
   "mimetype": "text/x-python",
   "name": "python",
   "nbconvert_exporter": "python",
   "pygments_lexer": "ipython3",
   "version": "3.7.6"
  }
 },
 "nbformat": 4,
 "nbformat_minor": 4
}
