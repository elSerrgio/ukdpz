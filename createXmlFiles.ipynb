{
 "cells": [
  {
   "cell_type": "code",
   "execution_count": null,
   "metadata": {},
   "outputs": [],
   "source": [
    "# save xml files\n",
    "\n",
    "import glob\n",
    "import os\n",
    "import xml.etree.ElementTree as ET\n",
    "\n",
    "def createXmlFiles(pathToXmlFiles, pathToPicsDir, images_aug, bbs_aug, images_names_d, numD):\n",
    "\n",
    "    for i in range (len(images_aug)):\n",
    "\n",
    "        filename = (pathToXmlFiles + images_names_d[i] + \".xml\")\n",
    "        tree = ET.parse(filename)\n",
    "        root = tree.getroot()\n",
    "\n",
    "        # bounding box position\n",
    "        root[6][4][0].text = str(int(round(bbs_aug[i][0].x1)))\n",
    "        root[6][4][1].text = str(int(round(bbs_aug[i][0].y1)))\n",
    "        root[6][4][2].text = str(int(round(bbs_aug[i][0].x2)))\n",
    "        root[6][4][3].text = str(int(round(bbs_aug[i][0].y2)))\n",
    "\n",
    "        # shape: width, height, depth\n",
    "        root[4][0].text = str(bbs_aug[i].shape[1])\n",
    "        root[4][1].text = str(bbs_aug[i].shape[0])\n",
    "        root[4][2].text = str(bbs_aug[i].shape[2])\n",
    "\n",
    "        # filename and path\n",
    "        root[1].text = (images_names_d[i] + \"_aug\" + str(i%numD+1) +\".jpg\")\n",
    "        root[2].text = (pathToPicsDir + \"augm/\" + images_names_d[i] + \"_aug\" + str(i%numD+1) + \".jpg\")\n",
    "\n",
    "        # save\n",
    "        if save_xml:\n",
    "            if os.path.exists(pathToPicsDir + \"xmlFiles/\") == 0:\n",
    "                os.mkdir(pathToPicsDir + \"xmlFiles/\")\n",
    "            tree.write(pathToPicsDir + \"xmlFiles/\" + images_names_d[i] + \"_aug\" + str(i%numD+1) + \".xml\")\n",
    "            \n"
   ]
  }
 ],
 "metadata": {
  "kernelspec": {
   "display_name": "Python 3",
   "language": "python",
   "name": "python3"
  },
  "language_info": {
   "codemirror_mode": {
    "name": "ipython",
    "version": 3
   },
   "file_extension": ".py",
   "mimetype": "text/x-python",
   "name": "python",
   "nbconvert_exporter": "python",
   "pygments_lexer": "ipython3",
   "version": "3.7.6"
  }
 },
 "nbformat": 4,
 "nbformat_minor": 4
}
