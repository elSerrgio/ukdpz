{
 "cells": [
  {
   "cell_type": "code",
   "execution_count": null,
   "metadata": {},
   "outputs": [],
   "source": [
    "#!/usr/bin/python\n",
    "# Bilder duplizieren\n",
    "\n",
    "# Duplicates every picture in a list multiple times \n",
    "def duplicatePics(images, numOfDuplicates): \n",
    "    images_dupl = []\n",
    "    for n in range(numOfDuplicates):\n",
    "        for i in range(len(images)):\n",
    "            images_dupl.append(images[i])\n",
    "    return images_dupl"
   ]
  }
 ],
 "metadata": {
  "kernelspec": {
   "display_name": "Python 3",
   "language": "python",
   "name": "python3"
  },
  "language_info": {
   "codemirror_mode": {
    "name": "ipython",
    "version": 3
   },
   "file_extension": ".py",
   "mimetype": "text/x-python",
   "name": "python",
   "nbconvert_exporter": "python",
   "pygments_lexer": "ipython3",
   "version": "3.7.6"
  }
 },
 "nbformat": 4,
 "nbformat_minor": 4
}
